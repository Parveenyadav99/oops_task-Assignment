{
 "cells": [
  {
   "cell_type": "code",
   "execution_count": 3,
   "id": "f61de403",
   "metadata": {},
   "outputs": [],
   "source": [
    "# Q1, Create a vehicle class with an init method having instance variables as name_of_vehicle, max_speed\n",
    "# and average_of_vehicle.\n",
    "\n",
    "class Vehicle:\n",
    "    def __init__(self, name_of_vehicle, max_speed, average_of_vehicle):\n",
    "        self.name_of_vehicle = name_of_vehicle\n",
    "        self.max_speed = max_speed\n",
    "        self.average_of_vehicle = average_of_vehicle\n"
   ]
  },
  {
   "cell_type": "code",
   "execution_count": 11,
   "id": "4f8da1e9",
   "metadata": {},
   "outputs": [
    {
     "name": "stdout",
     "output_type": "stream",
     "text": [
      "Name of the vehicle: Car\n",
      "Max speed: 180\n",
      "Average of the vehicle: 15\n"
     ]
    }
   ],
   "source": [
    "###   example 1 ques\n",
    "class Vehicle:\n",
    "    def __init__(self, name_of_vehicle, max_speed, average_of_vehicle):\n",
    "        self.name_of_vehicle = name_of_vehicle\n",
    "        self.max_speed = max_speed\n",
    "        self.average_of_vehicle = average_of_vehicle\n",
    "\n",
    "my_vehicle = Vehicle(\"Car\", 180, 15)\n",
    "print(\"Name of the vehicle:\", my_vehicle.name_of_vehicle)\n",
    "print(\"Max speed:\", my_vehicle.max_speed)\n",
    "print(\"Average of the vehicle:\", my_vehicle.average_of_vehicle)\n",
    "\n",
    "\n"
   ]
  },
  {
   "cell_type": "code",
   "execution_count": 12,
   "id": "fad5b9c1",
   "metadata": {},
   "outputs": [],
   "source": [
    "#  Q2. Create a child class car from the vehicle class created in Que 1, which will inherit the vehicle class.\n",
    "#  Create a method named seating_capacity which takes capacity as an argument and returns the name of\n",
    "#  the vehicle and its seating capacity.\n",
    "class Car(Vehicle):\n",
    "    def seating_capacity(self, capacity):\n",
    "        return f\"Name of the vehicle: {self.name_of_vehicle}, Seating capacity: {capacity}\"\n"
   ]
  },
  {
   "cell_type": "code",
   "execution_count": 13,
   "id": "660fb52e",
   "metadata": {},
   "outputs": [
    {
     "name": "stdout",
     "output_type": "stream",
     "text": [
      "Name of the vehicle: Sedan, Seating capacity: 5\n"
     ]
    }
   ],
   "source": [
    "my_car = Car(\"Sedan\", 180, 15)\n",
    "print(my_car.seating_capacity(5))\n",
    "\n"
   ]
  },
  {
   "cell_type": "raw",
   "id": "5294a37d",
   "metadata": {},
   "source": [
    "#  Q3. What is multiple inheritance? Write a python code to demonstrate multiple inheritance.\n",
    "Multiple inheritance is a feature of object-oriented programming languages that allows a class to inherit attributes and methods from multiple parent classes. This means that the child class can inherit attributes and methods from more than one parent class, rather than just one as in single inheritance.\n",
    "\n",
    "Here's a code example that demonstrates multiple inheritance in Python:"
   ]
  },
  {
   "cell_type": "code",
   "execution_count": 15,
   "id": "f25af7d6",
   "metadata": {},
   "outputs": [
    {
     "name": "stdout",
     "output_type": "stream",
     "text": [
      "Method 1 from Parent 1\n",
      "Method 2 from Parent 2\n"
     ]
    }
   ],
   "source": [
    "class Parent1:\n",
    "    def method1(self):\n",
    "        print(\"Method 1 from Parent 1\")\n",
    "\n",
    "class Parent2:\n",
    "    def method2(self):\n",
    "        print(\"Method 2 from Parent 2\")\n",
    "\n",
    "class Child(Parent1, Parent2):\n",
    "    pass\n",
    "\n",
    "child = Child()\n",
    "child.method1()\n",
    "child.method2()\n",
    "\n",
    "\n"
   ]
  },
  {
   "cell_type": "raw",
   "id": "e0dfc4d4",
   "metadata": {},
   "source": [
    "# Q4. What are getter and setter in python? Create a class and create a getter and a setter method in this\n",
    "class.\n",
    "Getters and setters are methods in object-oriented programming that are used to retrieve (get) and modify (set) the values of an object's attributes. In Python, getters and setters are often used to add additional behavior to an attribute when it is being accessed or modified.\n",
    "\n",
    "Here's an example of a class that uses getters and setters:"
   ]
  },
  {
   "cell_type": "code",
   "execution_count": 16,
   "id": "cdcc3657",
   "metadata": {},
   "outputs": [
    {
     "name": "stdout",
     "output_type": "stream",
     "text": [
      "Radius: 5\n",
      "Radius: 10\n"
     ]
    }
   ],
   "source": [
    "class Circle:\n",
    "    def __init__(self, radius):\n",
    "        self._radius = radius\n",
    "\n",
    "    def get_radius(self):\n",
    "        return self._radius\n",
    "\n",
    "    def set_radius(self, radius):\n",
    "        if radius < 0:\n",
    "            raise ValueError(\"Radius cannot be negative\")\n",
    "        self._radius = radius\n",
    "\n",
    "    radius = property(get_radius, set_radius)\n",
    "\n",
    "c = Circle(5)\n",
    "print(\"Radius:\", c.radius)\n",
    "c.radius = 10\n",
    "print(\"Radius:\", c.radius)\n"
   ]
  },
  {
   "cell_type": "raw",
   "id": "b702a19a",
   "metadata": {},
   "source": [
    "# Q5.What is method overriding in python? Write a python code to demonstrate method overriding.\n",
    "Method overriding is a feature of object-oriented programming that allows a subclass to provide a new implementation for a method that is already defined in its superclass. This allows the subclass to inherit the behavior of the superclass method, but also to customize it for its own needs.\n",
    "\n",
    "Here's an example of method overriding in Python:"
   ]
  },
  {
   "cell_type": "code",
   "execution_count": 17,
   "id": "4e287253",
   "metadata": {},
   "outputs": [
    {
     "name": "stdout",
     "output_type": "stream",
     "text": [
      "Rectangle area: 200\n",
      "Circle area: 78.5\n"
     ]
    }
   ],
   "source": [
    "class Shape:\n",
    "    def area(self):\n",
    "        pass\n",
    "\n",
    "class Rectangle(Shape):\n",
    "    def __init__(self, width, height):\n",
    "        self.width = width\n",
    "        self.height = height\n",
    "\n",
    "    def area(self):\n",
    "        return self.width * self.height\n",
    "\n",
    "class Circle(Shape):\n",
    "    def __init__(self, radius):\n",
    "        self.radius = radius\n",
    "\n",
    "    def area(self):\n",
    "        return 3.14 * self.radius * self.radius\n",
    "\n",
    "rect = Rectangle(10, 20)\n",
    "print(\"Rectangle area:\", rect.area())\n",
    "\n",
    "circ = Circle(5)\n",
    "print(\"Circle area:\", circ.area())\n",
    "\n"
   ]
  },
  {
   "cell_type": "code",
   "execution_count": null,
   "id": "b302781b",
   "metadata": {},
   "outputs": [],
   "source": []
  }
 ],
 "metadata": {
  "kernelspec": {
   "display_name": "Python 3 (ipykernel)",
   "language": "python",
   "name": "python3"
  },
  "language_info": {
   "codemirror_mode": {
    "name": "ipython",
    "version": 3
   },
   "file_extension": ".py",
   "mimetype": "text/x-python",
   "name": "python",
   "nbconvert_exporter": "python",
   "pygments_lexer": "ipython3",
   "version": "3.9.7"
  }
 },
 "nbformat": 4,
 "nbformat_minor": 5
}
